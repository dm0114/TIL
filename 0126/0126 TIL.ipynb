{
 "cells": [
  {
   "cell_type": "markdown",
   "id": "b853e570",
   "metadata": {},
   "source": [
    "### While문 안에서 Continue 사용하면 처음에서 다시 시작"
   ]
  },
  {
   "cell_type": "code",
   "execution_count": null,
   "id": "19d0592f",
   "metadata": {},
   "outputs": [],
   "source": [
    "str = input()\n",
    "li = [['' for _ in range(3)] for _ in range(3)]\n",
    "i = 2\n",
    "j = 0\n",
    "\n",
    "for i in range(2,-1,-1):\n",
    "    for j in range(3):\n",
    "        if i + j < 3:\n",
    "            li[i][j] = str\n",
    "            str = chr(ord(str) + 1)\n",
    "\n",
    "\n",
    "for i in range(3):\n",
    "    for j in range(3):\n",
    "        print(li[i][j], end=' ')\n",
    "\n",
    "    print()\n"
   ]
  },
  {
   "cell_type": "code",
   "execution_count": null,
   "id": "6eb97f0f",
   "metadata": {},
   "outputs": [],
   "source": [
    "list1 = [[], [], []]\n",
    "\n",
    "a = input()\n",
    "a = chr(ord(a) - 1)\n",
    "while (True):\n",
    "    if len(list1[0]) == 3:\n",
    "        break\n",
    "    a = chr(ord(a) + 1)\n",
    "    if len(list1[2]) != 1:\n",
    "        list1[2].append(a)\n",
    "        continue\n",
    "    if len(list1[1]) != 2:\n",
    "        list1[1].append(a)\n",
    "        continue\n",
    "    if len(list1[0]) != 3:\n",
    "        list1[0].append(a)\n",
    "        continue\n",
    "\n",
    "for i in list1:\n",
    "    for j in i:\n",
    "        print(j, end=' ')\n",
    "    print('')"
   ]
  }
 ],
 "metadata": {
  "kernelspec": {
   "display_name": "Python 3 (ipykernel)",
   "language": "python",
   "name": "python3"
  },
  "language_info": {
   "codemirror_mode": {
    "name": "ipython",
    "version": 3
   },
   "file_extension": ".py",
   "mimetype": "text/x-python",
   "name": "python",
   "nbconvert_exporter": "python",
   "pygments_lexer": "ipython3",
   "version": "3.10.1"
  },
  "toc": {
   "base_numbering": 1,
   "nav_menu": {},
   "number_sections": true,
   "sideBar": true,
   "skip_h1_title": false,
   "title_cell": "Table of Contents",
   "title_sidebar": "Contents",
   "toc_cell": false,
   "toc_position": {},
   "toc_section_display": true,
   "toc_window_display": false
  }
 },
 "nbformat": 4,
 "nbformat_minor": 5
}
